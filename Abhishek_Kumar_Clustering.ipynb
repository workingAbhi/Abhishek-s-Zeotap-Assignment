{
  "nbformat": 4,
  "nbformat_minor": 0,
  "metadata": {
    "colab": {
      "provenance": []
    },
    "kernelspec": {
      "name": "python3",
      "display_name": "Python 3"
    },
    "language_info": {
      "name": "python"
    }
  },
  "cells": [
    {
      "cell_type": "markdown",
      "source": [
        "#### Loading libraries"
      ],
      "metadata": {
        "id": "6OjLkLSxUQVZ"
      }
    },
    {
      "cell_type": "code",
      "source": [
        "import pandas as pd\n",
        "import numpy as np\n",
        "\n",
        "# For clustering\n",
        "from sklearn.cluster import KMeans\n",
        "from sklearn.preprocessing import StandardScaler\n",
        "\n",
        "# For cluster evaluation\n",
        "from sklearn.metrics import davies_bouldin_score, silhouette_score\n",
        "\n",
        "# For visualization\n",
        "import matplotlib.pyplot as plt\n",
        "import seaborn as sns\n",
        "%matplotlib inline"
      ],
      "metadata": {
        "id": "KRrJNJQMUSkR"
      },
      "execution_count": 19,
      "outputs": []
    },
    {
      "cell_type": "markdown",
      "source": [
        "#### Loaded & Merged Datasets"
      ],
      "metadata": {
        "id": "fNvSvJQ3M0Fo"
      }
    },
    {
      "cell_type": "code",
      "source": [
        "# Reading the raw data\n",
        "customers_df = pd.read_csv('Customers.csv')\n",
        "products_df = pd.read_csv('Products.csv')\n",
        "transactions_df = pd.read_csv('Transactions.csv')\n",
        "\n",
        "# Merged transactions with products\n",
        "trans_products_df = pd.merge(\n",
        "    transactions_df,\n",
        "    products_df,\n",
        "    on='ProductID',\n",
        "    how='left',\n",
        "    suffixes=('_trans', '_prod')\n",
        ")\n",
        "\n",
        "# Merged with customers\n",
        "full_df = pd.merge(\n",
        "    trans_products_df,\n",
        "    customers_df,\n",
        "    on='CustomerID',\n",
        "    how='left'\n",
        ")\n",
        "\n",
        "print(full_df.head())"
      ],
      "metadata": {
        "colab": {
          "base_uri": "https://localhost:8080/"
        },
        "id": "J3NjDM4OZPHZ",
        "outputId": "bb597d2e-a51a-41c7-a835-4079edbcbaf5"
      },
      "execution_count": 20,
      "outputs": [
        {
          "output_type": "stream",
          "name": "stdout",
          "text": [
            "  TransactionID CustomerID ProductID      TransactionDate  Quantity  \\\n",
            "0        T00001      C0199      P067  2024-08-25 12:38:23         1   \n",
            "1        T00112      C0146      P067  2024-05-27 22:23:54         1   \n",
            "2        T00166      C0127      P067  2024-04-25 07:38:55         1   \n",
            "3        T00272      C0087      P067  2024-03-26 22:55:37         2   \n",
            "4        T00363      C0070      P067  2024-03-21 15:10:10         3   \n",
            "\n",
            "   TotalValue  Price_trans                      ProductName     Category  \\\n",
            "0      300.68       300.68  ComfortLiving Bluetooth Speaker  Electronics   \n",
            "1      300.68       300.68  ComfortLiving Bluetooth Speaker  Electronics   \n",
            "2      300.68       300.68  ComfortLiving Bluetooth Speaker  Electronics   \n",
            "3      601.36       300.68  ComfortLiving Bluetooth Speaker  Electronics   \n",
            "4      902.04       300.68  ComfortLiving Bluetooth Speaker  Electronics   \n",
            "\n",
            "   Price_prod     CustomerName         Region  SignupDate  \n",
            "0      300.68   Andrea Jenkins         Europe  2022-12-03  \n",
            "1      300.68  Brittany Harvey           Asia  2024-09-04  \n",
            "2      300.68  Kathryn Stevens         Europe  2024-04-04  \n",
            "3      300.68  Travis Campbell  South America  2024-04-11  \n",
            "4      300.68    Timothy Perez         Europe  2022-03-15  \n"
          ]
        }
      ]
    },
    {
      "cell_type": "markdown",
      "source": [
        "## Feature Engineering"
      ],
      "metadata": {
        "id": "qz4xrNOEU8RH"
      }
    },
    {
      "cell_type": "markdown",
      "source": [
        "Generated aggregated features that summarize each customer’s behavior :\n",
        "\n",
        "\n",
        "\n",
        "*   Spending by Category\n",
        "*   Total Spend\n",
        "*   Purchase Count\n",
        "*   Days Since Signup\n",
        "*   Region or other profile attributes"
      ],
      "metadata": {
        "id": "E0QK0GcUVBo9"
      }
    },
    {
      "cell_type": "markdown",
      "source": [
        "##### Converted SignupDate to datetime"
      ],
      "metadata": {
        "id": "AUzO0_VEWSR9"
      }
    },
    {
      "cell_type": "code",
      "source": [
        "customers_df['SignupDate'] = pd.to_datetime(customers_df['SignupDate'])\n",
        "full_df['TransactionDate'] = pd.to_datetime(full_df['TransactionDate'])"
      ],
      "metadata": {
        "id": "BXo8dKGNWX3f"
      },
      "execution_count": 21,
      "outputs": []
    },
    {
      "cell_type": "markdown",
      "source": [
        "##### Aggregate total spending by category"
      ],
      "metadata": {
        "id": "xjwlrDC-WcFq"
      }
    },
    {
      "cell_type": "code",
      "source": [
        "category_spend = full_df.groupby(['CustomerID', 'Category'])['TotalValue'].sum().reset_index()"
      ],
      "metadata": {
        "id": "vxhgWFbZWa2L"
      },
      "execution_count": 22,
      "outputs": []
    },
    {
      "cell_type": "markdown",
      "source": [
        "##### Pivot to wide format"
      ],
      "metadata": {
        "id": "q6yhv_igWiur"
      }
    },
    {
      "cell_type": "code",
      "source": [
        "category_spend_pivot = category_spend.pivot(index='CustomerID', columns='Category', values='TotalValue').fillna(0)"
      ],
      "metadata": {
        "id": "iVUGoin0WlvE"
      },
      "execution_count": 23,
      "outputs": []
    },
    {
      "cell_type": "markdown",
      "source": [
        "##### Added total spend and purchase count"
      ],
      "metadata": {
        "id": "fW6d2jj4WngM"
      }
    },
    {
      "cell_type": "code",
      "source": [
        "purchase_count = full_df.groupby('CustomerID')['TransactionID'].nunique()\n",
        "total_spend = full_df.groupby('CustomerID')['TotalValue'].sum()\n",
        "\n",
        "category_spend_pivot['PurchaseCount'] = purchase_count\n",
        "category_spend_pivot['TotalSpend'] = total_spend"
      ],
      "metadata": {
        "id": "w3U0aLYbWqq3"
      },
      "execution_count": 24,
      "outputs": []
    },
    {
      "cell_type": "markdown",
      "source": [
        "##### Calculated Days since signup"
      ],
      "metadata": {
        "id": "GNLjjiGjWuFJ"
      }
    },
    {
      "cell_type": "code",
      "source": [
        "today = pd.to_datetime('today')\n",
        "temp_cust = customers_df.copy()\n",
        "temp_cust['DaysSinceSignup'] = (today - temp_cust['SignupDate']).dt.days"
      ],
      "metadata": {
        "id": "ALxiO-2OWySS"
      },
      "execution_count": 25,
      "outputs": []
    },
    {
      "cell_type": "markdown",
      "source": [
        "##### Merged the DaysSinceSignup feature"
      ],
      "metadata": {
        "id": "CKhG6t4zW0Xf"
      }
    },
    {
      "cell_type": "code",
      "source": [
        "category_spend_pivot = category_spend_pivot.merge(\n",
        "    temp_cust[['CustomerID', 'DaysSinceSignup', 'Region']],\n",
        "    how='left',\n",
        "    on='CustomerID'\n",
        ")"
      ],
      "metadata": {
        "id": "YoMFu5RSW4BG"
      },
      "execution_count": 26,
      "outputs": []
    },
    {
      "cell_type": "markdown",
      "source": [
        "##### Encoded Region as numeric , I will include it in clustering"
      ],
      "metadata": {
        "id": "c2S62JZEW7bD"
      }
    },
    {
      "cell_type": "code",
      "source": [
        "region_dummies = pd.get_dummies(category_spend_pivot['Region'], prefix='Region')\n",
        "category_spend_pivot = pd.concat([category_spend_pivot.drop('Region', axis=1), region_dummies], axis=1)"
      ],
      "metadata": {
        "id": "eoPUkBelXDPc"
      },
      "execution_count": 27,
      "outputs": []
    },
    {
      "cell_type": "markdown",
      "source": [
        "##### Final feature DataFrame"
      ],
      "metadata": {
        "id": "iAx8t7ctXFTd"
      }
    },
    {
      "cell_type": "code",
      "source": [
        "feature_df = category_spend_pivot.copy()\n",
        "feature_df.fillna(0, inplace=True)\n",
        "\n",
        "print(feature_df.head())"
      ],
      "metadata": {
        "colab": {
          "base_uri": "https://localhost:8080/"
        },
        "id": "AL5sYjHTU8dp",
        "outputId": "b78ba356-f5cf-4462-b407-aabd99d06d3e"
      },
      "execution_count": 28,
      "outputs": [
        {
          "output_type": "stream",
          "name": "stdout",
          "text": [
            "  CustomerID    Books  Clothing  Electronics  Home Decor  PurchaseCount  \\\n",
            "0      C0001   114.60      0.00      2827.30      412.62              5   \n",
            "1      C0002     0.00   1025.46         0.00      837.28              4   \n",
            "2      C0003     0.00    122.36      1385.20     1217.82              4   \n",
            "3      C0004  1888.48      0.00      1355.74     2110.66              8   \n",
            "4      C0005     0.00      0.00      1180.38      853.86              3   \n",
            "\n",
            "   TotalSpend  DaysSinceSignup  Region_Asia  Region_Europe  \\\n",
            "0     3354.52              930        False          False   \n",
            "1     1862.74             1077         True          False   \n",
            "2     2725.38              324        False          False   \n",
            "3     5354.88              839        False          False   \n",
            "4     2034.24              894         True          False   \n",
            "\n",
            "   Region_North America  Region_South America  \n",
            "0                 False                  True  \n",
            "1                 False                 False  \n",
            "2                 False                  True  \n",
            "3                 False                  True  \n",
            "4                 False                 False  \n"
          ]
        }
      ]
    },
    {
      "cell_type": "markdown",
      "source": [
        "## Clustering"
      ],
      "metadata": {
        "id": "8sxCiuq5XMhs"
      }
    },
    {
      "cell_type": "markdown",
      "source": [
        "### Standardized ( scaled ) the Features"
      ],
      "metadata": {
        "id": "n-Hfzl5OXPku"
      }
    },
    {
      "cell_type": "code",
      "source": [
        "from sklearn.preprocessing import StandardScaler\n",
        "\n",
        "# Ensured that CustomerID is index\n",
        "feature_df.set_index('CustomerID', inplace=True)\n",
        "# Converted to numpy array\n",
        "X = feature_df.values\n",
        "\n",
        "scaler = StandardScaler()\n",
        "# shape: (num_customers, num_features)\n",
        "X_scaled = scaler.fit_transform(X)"
      ],
      "metadata": {
        "id": "xvu1O1jDXNew"
      },
      "execution_count": 29,
      "outputs": []
    },
    {
      "cell_type": "markdown",
      "source": [
        "### Choosing the Number of Clusters (k)"
      ],
      "metadata": {
        "id": "fgSxPeY9Xs0t"
      }
    },
    {
      "cell_type": "markdown",
      "source": [
        "##### Since the assignment allows 2 to 10 clusters, my approach is to loop over k from 2 to 10, fit K-Means, and then compute:\n",
        "\n",
        "* Davies-Bouldin (DB) Index: Lower is better\n",
        "* Silhouette Score: Higher is better"
      ],
      "metadata": {
        "id": "5LSFe1AsXt6S"
      }
    },
    {
      "cell_type": "code",
      "source": [
        "db_scores = []\n",
        "sil_scores = []\n",
        "K_range = range(2, 11)\n",
        "\n",
        "for k in K_range:\n",
        "    kmeans = KMeans(n_clusters=k, random_state=42)\n",
        "    labels = kmeans.fit_predict(X_scaled)\n",
        "\n",
        "    db_index = davies_bouldin_score(X_scaled, labels)\n",
        "    db_scores.append(db_index)\n",
        "\n",
        "    sil = silhouette_score(X_scaled, labels)\n",
        "    sil_scores.append(sil)"
      ],
      "metadata": {
        "id": "b4P6orLdX2gx"
      },
      "execution_count": 30,
      "outputs": []
    },
    {
      "cell_type": "markdown",
      "source": [
        "##### Visualizing DB Index vs k"
      ],
      "metadata": {
        "id": "k9rUAQI8YDLy"
      }
    },
    {
      "cell_type": "code",
      "source": [
        "plt.figure(figsize=(10,4))\n",
        "plt.plot(list(K_range), db_scores, marker='o')\n",
        "plt.title(\"Davies-Bouldin Index vs. Number of Clusters\")\n",
        "plt.xlabel(\"k\")\n",
        "plt.ylabel(\"DB Index (Lower is Better)\")\n",
        "plt.show()"
      ],
      "metadata": {
        "colab": {
          "base_uri": "https://localhost:8080/",
          "height": 410
        },
        "id": "fk8L-51fYAPB",
        "outputId": "fd692b9e-af37-4928-dff1-ce3c481d791f"
      },
      "execution_count": 31,
      "outputs": [
        {
          "output_type": "display_data",
          "data": {
            "text/plain": [
              "<Figure size 1000x400 with 1 Axes>"
            ],
            "image/png": "[encoded data removed]"
          },
          "metadata": {}
        }
      ]
    },
    {
      "cell_type": "markdown",
      "source": [
        "##### Silhouette Score vs k"
      ],
      "metadata": {
        "id": "viJGKxEMYPZP"
      }
    },
    {
      "cell_type": "code",
      "source": [
        "plt.figure(figsize=(10,4))\n",
        "plt.plot(list(K_range), sil_scores, marker='o', color='red')\n",
        "plt.title(\"Silhouette Score vs. Number of Clusters\")\n",
        "plt.xlabel(\"k\")\n",
        "plt.ylabel(\"Silhouette Score (Higher is Better)\")\n",
        "plt.show()"
      ],
      "metadata": {
        "colab": {
          "base_uri": "https://localhost:8080/",
          "height": 410
        },
        "id": "ZWKW_ykmYB1-",
        "outputId": "3d5c64f8-9280-4e48-eb7d-2c68d1e8f4ea"
      },
      "execution_count": 32,
      "outputs": [
        {
          "output_type": "display_data",
          "data": {
            "text/plain": [
              "<Figure size 1000x400 with 1 Axes>"
            ],
            "image/png": "[encoded data removed]"
          },
          "metadata": {}
        }
      ]
    },
    {
      "cell_type": "markdown",
      "source": [
        "### My observation :\n",
        "* At k = 5\n",
        "* * Davies-Bouldin Index is lowest\n",
        "* * Silhouette Score is highest\n",
        "* Thus I am choosing k = 5"
      ],
      "metadata": {
        "id": "Ev45N7XLYdzn"
      }
    },
    {
      "cell_type": "code",
      "source": [
        "k_opt = 5"
      ],
      "metadata": {
        "id": "wIXSX1t6Y-a5"
      },
      "execution_count": 48,
      "outputs": []
    },
    {
      "cell_type": "code",
      "source": [
        "final_kmeans = KMeans(n_clusters=k_opt, random_state=42)\n",
        "final_labels = final_kmeans.fit_predict(X_scaled)"
      ],
      "metadata": {
        "id": "2SojRUbGY1WQ"
      },
      "execution_count": 49,
      "outputs": []
    },
    {
      "cell_type": "markdown",
      "source": [
        "##### Assigning cluster labels back to feature_df"
      ],
      "metadata": {
        "id": "DLydRt2GZEbH"
      }
    },
    {
      "cell_type": "code",
      "source": [
        "feature_df['Cluster'] = final_labels\n",
        "feature_df.head()"
      ],
      "metadata": {
        "colab": {
          "base_uri": "https://localhost:8080/",
          "height": 275
        },
        "id": "CXsf6WQmZDM0",
        "outputId": "b5aa222a-4410-4f2f-b128-140b25872380"
      },
      "execution_count": 50,
      "outputs": [
        {
          "output_type": "execute_result",
          "data": {
            "text/plain": [
              "              Books  Clothing  Electronics  Home Decor  PurchaseCount  \\\n",
              "CustomerID                                                              \n",
              "C0001        114.60      0.00      2827.30      412.62              5   \n",
              "C0002          0.00   1025.46         0.00      837.28              4   \n",
              "C0003          0.00    122.36      1385.20     1217.82              4   \n",
              "C0004       1888.48      0.00      1355.74     2110.66              8   \n",
              "C0005          0.00      0.00      1180.38      853.86              3   \n",
              "\n",
              "            TotalSpend  DaysSinceSignup  Region_Asia  Region_Europe  \\\n",
              "CustomerID                                                            \n",
              "C0001          3354.52              930        False          False   \n",
              "C0002          1862.74             1077         True          False   \n",
              "C0003          2725.38              324        False          False   \n",
              "C0004          5354.88              839        False          False   \n",
              "C0005          2034.24              894         True          False   \n",
              "\n",
              "            Region_North America  Region_South America  Cluster  \n",
              "CustomerID                                                       \n",
              "C0001                      False                  True        1  \n",
              "C0002                      False                 False        3  \n",
              "C0003                      False                  True        1  \n",
              "C0004                      False                  True        1  \n",
              "C0005                      False                 False        3  "
            ],
            "text/html": [
              "\n",
              "  <div id=\"df-8f77a5d2-ae13-4252-8a0d-ff341d697e6e\" class=\"colab-df-container\">\n",
              "    <div>\n",
              "<style scoped>\n",
              "    .dataframe tbody tr th:only-of-type {\n",
              "        vertical-align: middle;\n",
              "    }\n",
              "\n",
              "    .dataframe tbody tr th {\n",
              "        vertical-align: top;\n",
              "    }\n",
              "\n",
              "    .dataframe thead th {\n",
              "        text-align: right;\n",
              "    }\n",
              "</style>\n",
              "<table border=\"1\" class=\"dataframe\">\n",
              "  <thead>\n",
              "    <tr style=\"text-align: right;\">\n",
              "      <th></th>\n",
              "      <th>Books</th>\n",
              "      <th>Clothing</th>\n",
              "      <th>Electronics</th>\n",
              "      <th>Home Decor</th>\n",
              "      <th>PurchaseCount</th>\n",
              "      <th>TotalSpend</th>\n",
              "      <th>DaysSinceSignup</th>\n",
              "      <th>Region_Asia</th>\n",
              "      <th>Region_Europe</th>\n",
              "      <th>Region_North America</th>\n",
              "      <th>Region_South America</th>\n",
              "      <th>Cluster</th>\n",
              "    </tr>\n",
              "    <tr>\n",
              "      <th>CustomerID</th>\n",
              "      <th></th>\n",
              "      <th></th>\n",
              "      <th></th>\n",
              "      <th></th>\n",
              "      <th></th>\n",
              "      <th></th>\n",
              "      <th></th>\n",
              "      <th></th>\n",
              "      <th></th>\n",
              "      <th></th>\n",
              "      <th></th>\n",
              "      <th></th>\n",
              "    </tr>\n",
              "  </thead>\n",
              "  <tbody>\n",
              "    <tr>\n",
              "      <th>C0001</th>\n",
              "      <td>114.60</td>\n",
              "      <td>0.00</td>\n",
              "      <td>2827.30</td>\n",
              "      <td>412.62</td>\n",
              "      <td>5</td>\n",
              "      <td>3354.52</td>\n",
              "      <td>930</td>\n",
              "      <td>False</td>\n",
              "      <td>False</td>\n",
              "      <td>False</td>\n",
              "      <td>True</td>\n",
              "      <td>1</td>\n",
              "    </tr>\n",
              "    <tr>\n",
              "      <th>C0002</th>\n",
              "      <td>0.00</td>\n",
              "      <td>1025.46</td>\n",
              "      <td>0.00</td>\n",
              "      <td>837.28</td>\n",
              "      <td>4</td>\n",
              "      <td>1862.74</td>\n",
              "      <td>1077</td>\n",
              "      <td>True</td>\n",
              "      <td>False</td>\n",
              "      <td>False</td>\n",
              "      <td>False</td>\n",
              "      <td>3</td>\n",
              "    </tr>\n",
              "    <tr>\n",
              "      <th>C0003</th>\n",
              "      <td>0.00</td>\n",
              "      <td>122.36</td>\n",
              "      <td>1385.20</td>\n",
              "      <td>1217.82</td>\n",
              "      <td>4</td>\n",
              "      <td>2725.38</td>\n",
              "      <td>324</td>\n",
              "      <td>False</td>\n",
              "      <td>False</td>\n",
              "      <td>False</td>\n",
              "      <td>True</td>\n",
              "      <td>1</td>\n",
              "    </tr>\n",
              "    <tr>\n",
              "      <th>C0004</th>\n",
              "      <td>1888.48</td>\n",
              "      <td>0.00</td>\n",
              "      <td>1355.74</td>\n",
              "      <td>2110.66</td>\n",
              "      <td>8</td>\n",
              "      <td>5354.88</td>\n",
              "      <td>839</td>\n",
              "      <td>False</td>\n",
              "      <td>False</td>\n",
              "      <td>False</td>\n",
              "      <td>True</td>\n",
              "      <td>1</td>\n",
              "    </tr>\n",
              "    <tr>\n",
              "      <th>C0005</th>\n",
              "      <td>0.00</td>\n",
              "      <td>0.00</td>\n",
              "      <td>1180.38</td>\n",
              "      <td>853.86</td>\n",
              "      <td>3</td>\n",
              "      <td>2034.24</td>\n",
              "      <td>894</td>\n",
              "      <td>True</td>\n",
              "      <td>False</td>\n",
              "      <td>False</td>\n",
              "      <td>False</td>\n",
              "      <td>3</td>\n",
              "    </tr>\n",
              "  </tbody>\n",
              "</table>\n",
              "</div>\n",
              "    <div class=\"colab-df-buttons\">\n",
              "\n",
              "  <div class=\"colab-df-container\">\n",
              "    <button class=\"colab-df-convert\" onclick=\"convertToInteractive('df-8f77a5d2-ae13-4252-8a0d-ff341d697e6e')\"\n",
              "            title=\"Convert this dataframe to an interactive table.\"\n",
              "            style=\"display:none;\">\n",
              "\n",
              "  <svg xmlns=\"http://www.w3.org/2000/svg\" height=\"24px\" viewBox=\"0 -960 960 960\">\n",
              "    <path d=\"M120-120v-720h720v720H120Zm60-500h600v-160H180v160Zm220 220h160v-160H400v160Zm0 220h160v-160H400v160ZM180-400h160v-160H180v160Zm440 0h160v-160H620v160ZM180-180h160v-160H180v160Zm440 0h160v-160H620v160Z\"/>\n",
              "  </svg>\n",
              "    </button>\n",
              "\n",
              "  <style>\n",
              "    .colab-df-container {\n",
              "      display:flex;\n",
              "      gap: 12px;\n",
              "    }\n",
              "\n",
              "    .colab-df-convert {\n",
              "      background-color: #E8F0FE;\n",
              "      border: none;\n",
              "      border-radius: 50%;\n",
              "      cursor: pointer;\n",
              "      display: none;\n",
              "      fill: #1967D2;\n",
              "      height: 32px;\n",
              "      padding: 0 0 0 0;\n",
              "      width: 32px;\n",
              "    }\n",
              "\n",
              "    .colab-df-convert:hover {\n",
              "      background-color: #E2EBFA;\n",
              "      box-shadow: 0px 1px 2px rgba(60, 64, 67, 0.3), 0px 1px 3px 1px rgba(60, 64, 67, 0.15);\n",
              "      fill: #174EA6;\n",
              "    }\n",
              "\n",
              "    .colab-df-buttons div {\n",
              "      margin-bottom: 4px;\n",
              "    }\n",
              "\n",
              "    [theme=dark] .colab-df-convert {\n",
              "      background-color: #3B4455;\n",
              "      fill: #D2E3FC;\n",
              "    }\n",
              "\n",
              "    [theme=dark] .colab-df-convert:hover {\n",
              "      background-color: #434B5C;\n",
              "      box-shadow: 0px 1px 3px 1px rgba(0, 0, 0, 0.15);\n",
              "      filter: drop-shadow(0px 1px 2px rgba(0, 0, 0, 0.3));\n",
              "      fill: #FFFFFF;\n",
              "    }\n",
              "  </style>\n",
              "\n",
              "    <script>\n",
              "      const buttonEl =\n",
              "        document.querySelector('#df-8f77a5d2-ae13-4252-8a0d-ff341d697e6e button.colab-df-convert');\n",
              "      buttonEl.style.display =\n",
              "        google.colab.kernel.accessAllowed ? 'block' : 'none';\n",
              "\n",
              "      async function convertToInteractive(key) {\n",
              "        const element = document.querySelector('#df-8f77a5d2-ae13-4252-8a0d-ff341d697e6e');\n",
              "        const dataTable =\n",
              "          await google.colab.kernel.invokeFunction('convertToInteractive',\n",
              "                                                    [key], {});\n",
              "        if (!dataTable) return;\n",
              "\n",
              "        const docLinkHtml = 'Like what you see? Visit the ' +\n",
              "          '<a target=\"_blank\" href=https://colab.research.google.com/notebooks/data_table.ipynb>data table notebook</a>'\n",
              "          + ' to learn more about interactive tables.';\n",
              "        element.innerHTML = '';\n",
              "        dataTable['output_type'] = 'display_data';\n",
              "        await google.colab.output.renderOutput(dataTable, element);\n",
              "        const docLink = document.createElement('div');\n",
              "        docLink.innerHTML = docLinkHtml;\n",
              "        element.appendChild(docLink);\n",
              "      }\n",
              "    </script>\n",
              "  </div>\n",
              "\n",
              "\n",
              "<div id=\"df-492bcd32-cbc2-4823-a8ed-1657243139a4\">\n",
              "  <button class=\"colab-df-quickchart\" onclick=\"quickchart('df-492bcd32-cbc2-4823-a8ed-1657243139a4')\"\n",
              "            title=\"Suggest charts\"\n",
              "            style=\"display:none;\">\n",
              "\n",
              "<svg xmlns=\"http://www.w3.org/2000/svg\" height=\"24px\"viewBox=\"0 0 24 24\"\n",
              "     width=\"24px\">\n",
              "    <g>\n",
              "        <path d=\"M19 3H5c-1.1 0-2 .9-2 2v14c0 1.1.9 2 2 2h14c1.1 0 2-.9 2-2V5c0-1.1-.9-2-2-2zM9 17H7v-7h2v7zm4 0h-2V7h2v10zm4 0h-2v-4h2v4z\"/>\n",
              "    </g>\n",
              "</svg>\n",
              "  </button>\n",
              "\n",
              "<style>\n",
              "  .colab-df-quickchart {\n",
              "      --bg-color: #E8F0FE;\n",
              "      --fill-color: #1967D2;\n",
              "      --hover-bg-color: #E2EBFA;\n",
              "      --hover-fill-color: #174EA6;\n",
              "      --disabled-fill-color: #AAA;\n",
              "      --disabled-bg-color: #DDD;\n",
              "  }\n",
              "\n",
              "  [theme=dark] .colab-df-quickchart {\n",
              "      --bg-color: #3B4455;\n",
              "      --fill-color: #D2E3FC;\n",
              "      --hover-bg-color: #434B5C;\n",
              "      --hover-fill-color: #FFFFFF;\n",
              "      --disabled-bg-color: #3B4455;\n",
              "      --disabled-fill-color: #666;\n",
              "  }\n",
              "\n",
              "  .colab-df-quickchart {\n",
              "    background-color: var(--bg-color);\n",
              "    border: none;\n",
              "    border-radius: 50%;\n",
              "    cursor: pointer;\n",
              "    display: none;\n",
              "    fill: var(--fill-color);\n",
              "    height: 32px;\n",
              "    padding: 0;\n",
              "    width: 32px;\n",
              "  }\n",
              "\n",
              "  .colab-df-quickchart:hover {\n",
              "    background-color: var(--hover-bg-color);\n",
              "    box-shadow: 0 1px 2px rgba(60, 64, 67, 0.3), 0 1px 3px 1px rgba(60, 64, 67, 0.15);\n",
              "    fill: var(--button-hover-fill-color);\n",
              "  }\n",
              "\n",
              "  .colab-df-quickchart-complete:disabled,\n",
              "  .colab-df-quickchart-complete:disabled:hover {\n",
              "    background-color: var(--disabled-bg-color);\n",
              "    fill: var(--disabled-fill-color);\n",
              "    box-shadow: none;\n",
              "  }\n",
              "\n",
              "  .colab-df-spinner {\n",
              "    border: 2px solid var(--fill-color);\n",
              "    border-color: transparent;\n",
              "    border-bottom-color: var(--fill-color);\n",
              "    animation:\n",
              "      spin 1s steps(1) infinite;\n",
              "  }\n",
              "\n",
              "  @keyframes spin {\n",
              "    0% {\n",
              "      border-color: transparent;\n",
              "      border-bottom-color: var(--fill-color);\n",
              "      border-left-color: var(--fill-color);\n",
              "    }\n",
              "    20% {\n",
              "      border-color: transparent;\n",
              "      border-left-color: var(--fill-color);\n",
              "      border-top-color: var(--fill-color);\n",
              "    }\n",
              "    30% {\n",
              "      border-color: transparent;\n",
              "      border-left-color: var(--fill-color);\n",
              "      border-top-color: var(--fill-color);\n",
              "      border-right-color: var(--fill-color);\n",
              "    }\n",
              "    40% {\n",
              "      border-color: transparent;\n",
              "      border-right-color: var(--fill-color);\n",
              "      border-top-color: var(--fill-color);\n",
              "    }\n",
              "    60% {\n",
              "      border-color: transparent;\n",
              "      border-right-color: var(--fill-color);\n",
              "    }\n",
              "    80% {\n",
              "      border-color: transparent;\n",
              "      border-right-color: var(--fill-color);\n",
              "      border-bottom-color: var(--fill-color);\n",
              "    }\n",
              "    90% {\n",
              "      border-color: transparent;\n",
              "      border-bottom-color: var(--fill-color);\n",
              "    }\n",
              "  }\n",
              "</style>\n",
              "\n",
              "  <script>\n",
              "    async function quickchart(key) {\n",
              "      const quickchartButtonEl =\n",
              "        document.querySelector('#' + key + ' button');\n",
              "      quickchartButtonEl.disabled = true;  // To prevent multiple clicks.\n",
              "      quickchartButtonEl.classList.add('colab-df-spinner');\n",
              "      try {\n",
              "        const charts = await google.colab.kernel.invokeFunction(\n",
              "            'suggestCharts', [key], {});\n",
              "      } catch (error) {\n",
              "        console.error('Error during call to suggestCharts:', error);\n",
              "      }\n",
              "      quickchartButtonEl.classList.remove('colab-df-spinner');\n",
              "      quickchartButtonEl.classList.add('colab-df-quickchart-complete');\n",
              "    }\n",
              "    (() => {\n",
              "      let quickchartButtonEl =\n",
              "        document.querySelector('#df-492bcd32-cbc2-4823-a8ed-1657243139a4 button');\n",
              "      quickchartButtonEl.style.display =\n",
              "        google.colab.kernel.accessAllowed ? 'block' : 'none';\n",
              "    })();\n",
              "  </script>\n",
              "</div>\n",
              "\n",
              "    </div>\n",
              "  </div>\n"
            ],
            "application/vnd.google.colaboratory.intrinsic+json": {
              "type": "dataframe",
              "variable_name": "feature_df",
              "summary": "{\n  \"name\": \"feature_df\",\n  \"rows\": 199,\n  \"fields\": [\n    {\n      \"column\": \"CustomerID\",\n      \"properties\": {\n        \"dtype\": \"string\",\n        \"num_unique_values\": 199,\n        \"samples\": [\n          \"C0083\",\n          \"C0016\",\n          \"C0112\"\n        ],\n        \"semantic_type\": \"\",\n        \"description\": \"\"\n      }\n    },\n    {\n      \"column\": \"Books\",\n      \"properties\": {\n        \"dtype\": \"number\",\n        \"std\": 1012.7629637792214,\n        \"min\": 0.0,\n        \"max\": 5145.35,\n        \"num_unique_values\": 131,\n        \"samples\": [\n          319.34,\n          1213.2,\n          482.86\n        ],\n        \"semantic_type\": \"\",\n        \"description\": \"\"\n      }\n    },\n    {\n      \"column\": \"Clothing\",\n      \"properties\": {\n        \"dtype\": \"number\",\n        \"std\": 930.3689376220632,\n        \"min\": 0.0,\n        \"max\": 4037.15,\n        \"num_unique_values\": 113,\n        \"samples\": [\n          875.51,\n          1541.6,\n          1541.48\n        ],\n        \"semantic_type\": \"\",\n        \"description\": \"\"\n      }\n    },\n    {\n      \"column\": \"Electronics\",\n      \"properties\": {\n        \"dtype\": \"number\",\n        \"std\": 964.0948202287359,\n        \"min\": 0.0,\n        \"max\": 3631.59,\n        \"num_unique_values\": 127,\n        \"samples\": [\n          916.24,\n          914.4,\n          2470.02\n        ],\n        \"semantic_type\": \"\",\n        \"description\": \"\"\n      }\n    },\n    {\n      \"column\": \"Home Decor\",\n      \"properties\": {\n        \"dtype\": \"number\",\n        \"std\": 795.4272564163829,\n        \"min\": 0.0,\n        \"max\": 3397.52,\n        \"num_unique_values\": 120,\n        \"samples\": [\n          1474.83,\n          677.88,\n          853.86\n        ],\n        \"semantic_type\": \"\",\n        \"description\": \"\"\n      }\n    },\n    {\n      \"column\": \"PurchaseCount\",\n      \"properties\": {\n        \"dtype\": \"number\",\n        \"std\": 2,\n        \"min\": 1,\n        \"max\": 11,\n        \"num_unique_values\": 11,\n        \"samples\": [\n          7,\n          5,\n          9\n        ],\n        \"semantic_type\": \"\",\n        \"description\": \"\"\n      }\n    },\n    {\n      \"column\": \"TotalSpend\",\n      \"properties\": {\n        \"dtype\": \"number\",\n        \"std\": 1832.677958387418,\n        \"min\": 82.36,\n        \"max\": 10673.869999999999,\n        \"num_unique_values\": 199,\n        \"samples\": [\n          642.8,\n          3874.42,\n          1959.51\n        ],\n        \"semantic_type\": \"\",\n        \"description\": \"\"\n      }\n    },\n    {\n      \"column\": \"DaysSinceSignup\",\n      \"properties\": {\n        \"dtype\": \"number\",\n        \"std\": 326,\n        \"min\": 28,\n        \"max\": 1099,\n        \"num_unique_values\": 178,\n        \"samples\": [\n          228,\n          309,\n          90\n        ],\n        \"semantic_type\": \"\",\n        \"description\": \"\"\n      }\n    },\n    {\n      \"column\": \"Region_Asia\",\n      \"properties\": {\n        \"dtype\": \"boolean\",\n        \"num_unique_values\": 2,\n        \"samples\": [\n          true,\n          false\n        ],\n        \"semantic_type\": \"\",\n        \"description\": \"\"\n      }\n    },\n    {\n      \"column\": \"Region_Europe\",\n      \"properties\": {\n        \"dtype\": \"boolean\",\n        \"num_unique_values\": 2,\n        \"samples\": [\n          true,\n          false\n        ],\n        \"semantic_type\": \"\",\n        \"description\": \"\"\n      }\n    },\n    {\n      \"column\": \"Region_North America\",\n      \"properties\": {\n        \"dtype\": \"boolean\",\n        \"num_unique_values\": 2,\n        \"samples\": [\n          true,\n          false\n        ],\n        \"semantic_type\": \"\",\n        \"description\": \"\"\n      }\n    },\n    {\n      \"column\": \"Region_South America\",\n      \"properties\": {\n        \"dtype\": \"boolean\",\n        \"num_unique_values\": 2,\n        \"samples\": [\n          false,\n          true\n        ],\n        \"semantic_type\": \"\",\n        \"description\": \"\"\n      }\n    },\n    {\n      \"column\": \"Cluster\",\n      \"properties\": {\n        \"dtype\": \"int32\",\n        \"num_unique_values\": 5,\n        \"samples\": [\n          3,\n          0\n        ],\n        \"semantic_type\": \"\",\n        \"description\": \"\"\n      }\n    }\n  ]\n}"
            }
          },
          "metadata": {},
          "execution_count": 50
        }
      ]
    },
    {
      "cell_type": "markdown",
      "source": [
        "### Evaluating Clusters & DB Index"
      ],
      "metadata": {
        "id": "1I0hvF9dZLQa"
      }
    },
    {
      "cell_type": "code",
      "source": [
        "db_index_final = davies_bouldin_score(X_scaled, final_labels)\n",
        "silhouette_final = silhouette_score(X_scaled, final_labels)"
      ],
      "metadata": {
        "id": "SGRwqUntZMxq"
      },
      "execution_count": 51,
      "outputs": []
    },
    {
      "cell_type": "code",
      "source": [
        "print(f\"Chosen number of clusters (k): {k_opt}\")\n",
        "print(f\"Davies-Bouldin Index : {db_index_final:.4f}\")\n",
        "print(f\"Silhouette Score : {silhouette_final:.4f}\")"
      ],
      "metadata": {
        "colab": {
          "base_uri": "https://localhost:8080/"
        },
        "id": "RhH9J_s2ZRUN",
        "outputId": "fcf886bf-8198-40ab-d029-d1730e7c1f31"
      },
      "execution_count": 52,
      "outputs": [
        {
          "output_type": "stream",
          "name": "stdout",
          "text": [
            "Chosen number of clusters (k): 5\n",
            "Davies-Bouldin Index: 1.4486\n",
            "Silhouette Score: 0.2651\n"
          ]
        }
      ]
    },
    {
      "cell_type": "markdown",
      "source": [
        "## Visualizing the Clusters"
      ],
      "metadata": {
        "id": "kSXY98F_aZ-1"
      }
    },
    {
      "cell_type": "markdown",
      "source": [
        "##### My approach is to use PCA (Principal Component Analysis) to project the data. Then, color points by their cluster label."
      ],
      "metadata": {
        "id": "2401KYgOalxZ"
      }
    },
    {
      "cell_type": "code",
      "source": [
        "from sklearn.decomposition import PCA\n",
        "\n",
        "pca = PCA(n_components=2, random_state=42)\n",
        "X_pca = pca.fit_transform(X_scaled)\n",
        "\n",
        "plt.figure(figsize=(8,6))\n",
        "sns.scatterplot(\n",
        "    x=X_pca[:,0],\n",
        "    y=X_pca[:,1],\n",
        "    hue=final_labels,\n",
        "    palette='Set2'\n",
        ")\n",
        "plt.title(\"Customer Clusters (PCA Projection)\")\n",
        "plt.xlabel(\"PC1\")\n",
        "plt.ylabel(\"PC2\")\n",
        "plt.legend(title='Cluster')\n",
        "plt.show()"
      ],
      "metadata": {
        "colab": {
          "base_uri": "https://localhost:8080/",
          "height": 564
        },
        "id": "0v7w48cBab_l",
        "outputId": "bf16350f-e8a3-480f-d59c-74030714c150"
      },
      "execution_count": 53,
      "outputs": [
        {
          "output_type": "display_data",
          "data": {
            "text/plain": [
              "<Figure size 800x600 with 1 Axes>"
            ],
            "image/png": "[encoded data removed]"
          },
          "metadata": {}
        }
      ]
    }
  ]
}